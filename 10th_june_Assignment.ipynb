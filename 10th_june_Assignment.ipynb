{
 "cells": [
  {
   "cell_type": "code",
   "execution_count": null,
   "id": "51cb23f7",
   "metadata": {},
   "outputs": [],
   "source": [
    "1. In Python, what is the difference between a built-in function and a user-defined function? Provide an\n",
    "example of each.\n",
    "ANS: In Python, the main difference between a built-in function and a user-defined function lies in their origin and availability.\n",
    "\n",
    "Built-in Function:\n",
    "Built-in functions are functions that are provided as part of the Python programming language and are readily available for use without requiring any additional setup or importing. These functions are built into the Python interpreter and cover a wide range of tasks, including mathematical operations, data type conversions, input/output operations, and more. Some examples of built-in functions in Python include print(), len(), type(), sum(), max(), min(), and range().\n",
    "Example of a built-in function:"
   ]
  },
  {
   "cell_type": "code",
   "execution_count": null,
   "id": "515acf09",
   "metadata": {},
   "outputs": [],
   "source": [
    "# Using the built-in function print() to display a message\n",
    "print(\"Hello, this is a built-in function!\")\n",
    "\n",
    "\n",
    "User-Defined Function:\n",
    "User-defined functions are functions created by the programmer to perform specific tasks or operations that are not covered by the built-in functions. To create a user-defined function, you need to define it explicitly, give it a name, specify the input parameters (if any), and define the functionality using a block of code. These functions can be customized according to the requirements of the program.\n",
    "Example of a user-defined function:"
   ]
  },
  {
   "cell_type": "code",
   "execution_count": null,
   "id": "47354642",
   "metadata": {},
   "outputs": [],
   "source": [
    "# Defining a user-defined function called add_numbers\n",
    "def add_numbers(a, b):\n",
    "    result = a + b\n",
    "    return result\n",
    "\n",
    "# Calling the user-defined function and storing the result in a variable\n",
    "sum_result = add_numbers(5, 7)\n",
    "print(\"The sum is:\", sum_result)\n"
   ]
  },
  {
   "cell_type": "code",
   "execution_count": null,
   "id": "27dcf757",
   "metadata": {},
   "outputs": [],
   "source": [
    "2. How can you pass arguments to a function in Python? Explain the difference between positional\n",
    "arguments and keyword arguments.\n",
    "ANS:\n",
    "    In Python, you can pass arguments to a function in several ways. When you define a function, you can specify one or more parameters to accept arguments. When you call the function, you can pass values to those parameters as arguments. There are two main ways to pass arguments to a function: positional arguments and keyword arguments.\n",
    "\n",
    "Positional Arguments:\n",
    "Positional arguments are the most common way of passing arguments to a function. When you call a function with positional arguments, the values are assigned to the function parameters based on their position in the function's parameter list. The order of the arguments matters, and they should be provided in the same order as defined in the function.\n",
    "Example of using positional arguments:"
   ]
  },
  {
   "cell_type": "code",
   "execution_count": 3,
   "id": "376c3c85",
   "metadata": {},
   "outputs": [
    {
     "name": "stdout",
     "output_type": "stream",
     "text": [
      "12\n"
     ]
    }
   ],
   "source": [
    "def add_numbers(a, b):\n",
    "    return a + b\n",
    "\n",
    "result = add_numbers(5, 7)\n",
    "print(result)  \n",
    "\n"
   ]
  },
  {
   "cell_type": "code",
   "execution_count": null,
   "id": "07391a72",
   "metadata": {},
   "outputs": [],
   "source": [
    "In this example, we defined a function add_numbers(a, b) that takes two positional arguments a and b and returns their sum. When we call the function with add_numbers(5, 7), the value 5 is assigned to a, and 7 is assigned to b. Thus, the function returns 5 + 7, which is 12.\n",
    "\n",
    "Keyword Arguments:\n",
    "Keyword arguments allow you to explicitly specify which argument corresponds to which parameter by using their names when calling the function. By using keyword arguments, the order of the arguments doesn't matter, and you can skip providing values for parameters with default values.\n",
    "Example of using keyword arguments:"
   ]
  },
  {
   "cell_type": "code",
   "execution_count": 1,
   "id": "a5e5795e",
   "metadata": {},
   "outputs": [
    {
     "name": "stdout",
     "output_type": "stream",
     "text": [
      "Hello, Alice. You are 30 years old.\n"
     ]
    }
   ],
   "source": [
    "def greet_person(name, age):\n",
    "    return f\"Hello, {name}. You are {age} years old.\"\n",
    "\n",
    "message = greet_person(name=\"Alice\", age=30)\n",
    "print(message)  "
   ]
  },
  {
   "cell_type": "code",
   "execution_count": null,
   "id": "4e35f5f8",
   "metadata": {},
   "outputs": [],
   "source": [
    "3 What is the purpose of the return statement in a function? Can a function have multiple return\n",
    "statements? Explain with an example.\n",
    "ANS:\n",
    "    \n",
    "    The return statement in a function is used to send a value or data back from the function to the caller. When a function is called, it executes the code inside the function's body, and the return statement is used to specify the value that the function should produce as its output or result. Once the return statement is encountered, the function immediately exits, and the control is returned to the point where the function was called, along with the value returned by the function.\n",
    "\n",
    "The return statement serves several purposes:\n",
    "\n",
    "To provide the result of the function's computation or processing back to the caller.\n",
    "To terminate the function's execution prematurely if certain conditions are met.\n",
    "To exit the function and any nested functions or code blocks.\n",
    "Yes, a function can have multiple return statements. When a function encounters a return statement, it exits immediately, and the value specified in the return statement is returned to the caller. So, if a function has multiple return statements, only the one that is encountered first during the execution of the function will be executed, and the function will terminate.\n",
    "\n",
    "Here's an example of a function with multiple return statements:\n"
   ]
  },
  {
   "cell_type": "code",
   "execution_count": 4,
   "id": "308705f1",
   "metadata": {},
   "outputs": [
    {
     "name": "stdout",
     "output_type": "stream",
     "text": [
      "Positive\n",
      "Negative\n",
      "Zero\n"
     ]
    }
   ],
   "source": [
    "def check_number(num):\n",
    "    if num > 0:\n",
    "        return \"Positive\"\n",
    "    elif num < 0:\n",
    "        return \"Negative\"\n",
    "    else:\n",
    "        return \"Zero\"\n",
    "\n",
    "result1 = check_number(5)\n",
    "result2 = check_number(-3)\n",
    "result3 = check_number(0)\n",
    "\n",
    "print(result1)  \n",
    "print(result2)  \n",
    "print(result3)  \n"
   ]
  },
  {
   "cell_type": "code",
   "execution_count": null,
   "id": "fcacee98",
   "metadata": {},
   "outputs": [],
   "source": [
    "4 What are lambda functions in Python? How are they different from regular functions? Provide an\n",
    "example where a lambda function can be useful.\n",
    "ANS:\n",
    "\n",
    "In Python, a lambda function is a small, anonymous function that can have any number of arguments but can only have one expression. Lambda functions are defined using the lambda keyword, followed by a list of arguments (if any) separated by commas, a colon :, and the expression to be evaluated. The result of the expression is automatically returned by the lambda function. Lambda functions are also known as \"anonymous\" functions because they don't have a name like regular functions defined using the def keyword.\n",
    "\n",
    "Syntax of a lambda function:"
   ]
  },
  {
   "cell_type": "code",
   "execution_count": null,
   "id": "6dfe8e3f",
   "metadata": {},
   "outputs": [],
   "source": [
    "lambda arguments: expression\n",
    "\n",
    "Lambda functions are typically used for short, simple functions where defining a regular function using def would be cumbersome and unnecessary. They are often used in situations where a small function is needed for a short period or for specific operations, like in filtering, mapping, and sorting operations.\n",
    "\n",
    "Let's see an example of a lambda function that calculates the square of a number:"
   ]
  },
  {
   "cell_type": "code",
   "execution_count": 5,
   "id": "52acfad0",
   "metadata": {},
   "outputs": [
    {
     "name": "stdout",
     "output_type": "stream",
     "text": [
      "25\n",
      "25\n"
     ]
    }
   ],
   "source": [
    "# Regular function to calculate square\n",
    "def square(x):\n",
    "    return x * x\n",
    "\n",
    "# Equivalent lambda function\n",
    "square_lambda = lambda x: x * x\n",
    "\n",
    "print(square(5))          \n",
    "print(square_lambda(5))   \n"
   ]
  },
  {
   "cell_type": "code",
   "execution_count": null,
   "id": "4952875d",
   "metadata": {},
   "outputs": [],
   "source": [
    "Difference between lambda functions and regular functions:\n",
    "\n",
    "Syntax: Lambda functions use the lambda keyword and have a more concise syntax with a single expression, while regular functions use the def keyword and can have multiple statements in their body.\n",
    "\n",
    "Name: Lambda functions are anonymous, meaning they don't have a name. They are typically used for short tasks or where the function is used immediately and not assigned to a variable. Regular functions have a name and can be used multiple times throughout the code.\n",
    "\n",
    "Function Body: Lambda functions can only have a single expression, whereas regular functions can contain multiple statements and have a more complex function body.\n",
    "\n",
    "Example where a lambda function can be useful:\n",
    "\n",
    "Lambda functions are commonly used in functional programming paradigms, especially when working with functions like map(), filter(), and sort() that expect a function as an argument. These functions allow us to pass lambda functions as arguments for quick and concise data processing.\n",
    "\n",
    "Let's see an example of using a lambda function with map() to calculate the squares of a list of numbers:\n",
    "\n"
   ]
  },
  {
   "cell_type": "code",
   "execution_count": 6,
   "id": "2eb653d8",
   "metadata": {},
   "outputs": [
    {
     "name": "stdout",
     "output_type": "stream",
     "text": [
      "[1, 4, 9, 16, 25]\n"
     ]
    }
   ],
   "source": [
    "numbers = [1, 2, 3, 4, 5]\n",
    "\n",
    "# Using a lambda function with map() to calculate squares\n",
    "squares = map(lambda x: x * x, numbers)\n",
    "\n",
    "print(list(squares)) \n"
   ]
  },
  {
   "cell_type": "code",
   "execution_count": null,
   "id": "38bbeb07",
   "metadata": {},
   "outputs": [],
   "source": [
    "5 How does the concept of \"scope\" apply to functions in Python? Explain the difference between local\n",
    "scope and global scope.\n",
    "\n",
    "ANS:In Python, the concept of \"scope\" refers to the region or area in a program where a particular variable is accessible and can be referenced. Variables in Python have different scopes depending on where they are defined, and the scope determines the visibility and lifetime of the variable.\n",
    "\n",
    "Local Scope:\n",
    "Variables defined inside a function have a local scope. These variables are only accessible within the function in which they are defined. Once the function completes its execution, the local variables are destroyed, and their values are no longer accessible. Local variables are \"local\" to the function and cannot be accessed from outside the function.\n",
    "Example of local scope:"
   ]
  },
  {
   "cell_type": "code",
   "execution_count": 7,
   "id": "1f2e7b9c",
   "metadata": {},
   "outputs": [
    {
     "name": "stdout",
     "output_type": "stream",
     "text": [
      "10\n"
     ]
    }
   ],
   "source": [
    "def my_function():\n",
    "    x = 10   # Local variable\n",
    "    print(x)\n",
    "\n",
    "my_function()\n",
    "# print(x)  # This will raise a NameError because \"x\" is not defined in the global scope\n"
   ]
  },
  {
   "cell_type": "code",
   "execution_count": null,
   "id": "736963a3",
   "metadata": {},
   "outputs": [],
   "source": [
    "Global Scope:\n",
    "Variables defined outside any function or at the top level of a Python script have a global scope. These variables are accessible throughout the entire program, including inside functions. Global variables retain their values as long as the program is running, and they can be accessed and modified from any part of the program.\n",
    "Example of global scope:"
   ]
  },
  {
   "cell_type": "code",
   "execution_count": 8,
   "id": "600e6948",
   "metadata": {},
   "outputs": [
    {
     "name": "stdout",
     "output_type": "stream",
     "text": [
      "10\n",
      "10\n"
     ]
    }
   ],
   "source": [
    "x = 10   # Global variable\n",
    "\n",
    "def my_function():\n",
    "    print(x)\n",
    "\n",
    "my_function()\n",
    "print(x)  # The global variable \"x\" can be accessed outside the function as well\n"
   ]
  },
  {
   "cell_type": "code",
   "execution_count": 9,
   "id": "a8d3c9eb",
   "metadata": {},
   "outputs": [
    {
     "name": "stdout",
     "output_type": "stream",
     "text": [
      "20\n",
      "10\n"
     ]
    }
   ],
   "source": [
    "x = 10   # Global variable\n",
    "\n",
    "def my_function():\n",
    "    x = 20   # Local variable (shadowing the global variable)\n",
    "    print(x)\n",
    "\n",
    "my_function()   # Output: 20\n",
    "print(x)        # Output: 10 (the global variable is unchanged)\n"
   ]
  },
  {
   "cell_type": "code",
   "execution_count": null,
   "id": "50d9fed2",
   "metadata": {},
   "outputs": [],
   "source": [
    "6 How can you use the \"return\" statement in a Python function to return multiple values?\n",
    "ANS:\n",
    "    In Python, you can use the return statement in a function to return multiple values as a tuple. A tuple is a data structure in Python that allows you to store multiple items together. When you use the return statement with multiple values separated by commas, Python automatically packs those values into a tuple and returns it.\n",
    "\n",
    "Here's an example of how to use the return statement to return multiple values:"
   ]
  },
  {
   "cell_type": "code",
   "execution_count": 10,
   "id": "1fc34aa7",
   "metadata": {},
   "outputs": [
    {
     "name": "stdout",
     "output_type": "stream",
     "text": [
      "Name: John\n",
      "Age: 25\n",
      "Grade: A\n"
     ]
    }
   ],
   "source": [
    "def get_student_info():\n",
    "    name = \"John\"\n",
    "    age = 25\n",
    "    grade = \"A\"\n",
    "    return name, age, grade\n",
    "\n",
    "# Call the function and unpack the returned tuple into separate variables\n",
    "student_name, student_age, student_grade = get_student_info()\n",
    "\n",
    "print(\"Name:\", student_name)\n",
    "print(\"Age:\", student_age)\n",
    "print(\"Grade:\", student_grade)\n"
   ]
  },
  {
   "cell_type": "code",
   "execution_count": null,
   "id": "95ec7b07",
   "metadata": {},
   "outputs": [],
   "source": [
    "7 What is the difference between the \"pass by value\" and \"pass by reference\" concepts when it\n",
    "comes to function arguments in Python?\n",
    "In Python, the concepts of \"pass by value\" and \"pass by reference\" are often misunderstood due to the way Python handles function arguments. To clarify, Python uses a mechanism that is often referred to as \"pass by object reference\" or \"pass by assignment.\" Let's explore these concepts and understand how they work in Python:\n",
    "\n",
    "Pass by Value:\n",
    "\"Pass by value\" means that when you pass an argument to a function, a copy of the value of the argument is passed to the function. The function works with the copy of the value, and any changes made to the parameter within the function do not affect the original value outside the function.\n",
    "However, it's essential to note that the concept of \"pass by value\" is not applicable in Python for all data types. For immutable objects like integers, strings, and tuples, it behaves similarly to \"pass by value\" because their values cannot be changed. When you pass an immutable object as an argument to a function, any modifications made to the parameter inside the function result in a new object being created and assigned to the local variable, leaving the original object unchanged outside the function.\n",
    "\n",
    "Example of \"pass by value\" behavior with an immutable object:"
   ]
  },
  {
   "cell_type": "code",
   "execution_count": 11,
   "id": "c35454ae",
   "metadata": {},
   "outputs": [
    {
     "name": "stdout",
     "output_type": "stream",
     "text": [
      "Inside function: 15\n",
      "Outside function: 5\n"
     ]
    }
   ],
   "source": [
    "def modify_number(num):\n",
    "    num = num + 10   # A new object is created, and \"num\" points to the new object\n",
    "    print(\"Inside function:\", num)\n",
    "\n",
    "x = 5\n",
    "modify_number(x)\n",
    "print(\"Outside function:\", x)\n"
   ]
  },
  {
   "cell_type": "code",
   "execution_count": null,
   "id": "c38b3dc3",
   "metadata": {},
   "outputs": [],
   "source": [
    "Pass by Reference (Pass by Object Reference / Pass by Assignment):\n",
    "\"Pass by reference\" means that when you pass an argument to a function, the reference (memory address) to the original object is passed, not a copy of the value. Therefore, any changes made to the parameter inside the function directly affect the original object outside the function.\n",
    "However, Python is not strictly \"pass by reference\" for all data types. For mutable objects like lists and dictionaries, it behaves like \"pass by reference\" because you can modify the object in place. Changes made to the parameter inside the function affect the original object outside the function.\n",
    "\n",
    "Example of \"pass by reference\" behavior with a mutable object:"
   ]
  },
  {
   "cell_type": "code",
   "execution_count": 12,
   "id": "e909050b",
   "metadata": {},
   "outputs": [
    {
     "name": "stdout",
     "output_type": "stream",
     "text": [
      "[1, 2, 3, 4]\n"
     ]
    }
   ],
   "source": [
    "def modify_list(my_list):\n",
    "    my_list.append(4)   # Modifies the original list\n",
    "\n",
    "numbers = [1, 2, 3]\n",
    "modify_list(numbers)\n",
    "print(numbers)   \n"
   ]
  },
  {
   "cell_type": "code",
   "execution_count": null,
   "id": "5078cf1b",
   "metadata": {},
   "outputs": [],
   "source": [
    "8. Create a function that can intake integer or decimal value and do following operations:\n",
    "a. Logarithmic function (log x)\n",
    "b. Exponential function (exp(x))\n",
    "c. Power function with base 2 (2\n",
    "x\n",
    ")\n",
    "\n",
    "d. Square root\n",
    "\n",
    "ANS:Sure, let's create a Python function that can perform the specified mathematical operations based on the user's input. We'll use the math module in Python to access the logarithmic, exponential, and square root functions. For the power function with base 2, we'll use the Python's built-in pow() function."
   ]
  },
  {
   "cell_type": "code",
   "execution_count": 13,
   "id": "8e323ade",
   "metadata": {},
   "outputs": [
    {
     "name": "stdout",
     "output_type": "stream",
     "text": [
      "Logarithm of 2: 0.6931471805599453\n",
      "Exponential of 2: 7.38905609893065\n",
      "Power of 2 with exponent 2: 4\n",
      "Square root of 2: 1.4142135623730951\n",
      "Logarithm of 3.5: 1.252762968495368\n",
      "Exponential of 3.5: 33.11545195869231\n",
      "Power of 2 with exponent 3.5: 11.313708498984761\n",
      "Square root of 3.5: 1.8708286933869707\n"
     ]
    }
   ],
   "source": [
    "import math\n",
    "\n",
    "def math_operations(x):\n",
    "    # Logarithmic function (log x)\n",
    "    log_result = math.log(x)\n",
    "\n",
    "    # Exponential function (exp(x))\n",
    "    exp_result = math.exp(x)\n",
    "\n",
    "    # Power function with base 2 (2^x)\n",
    "    power_result = pow(2, x)\n",
    "\n",
    "    # Square root function (sqrt(x))\n",
    "    sqrt_result = math.sqrt(x)\n",
    "\n",
    "    return log_result, exp_result, power_result, sqrt_result\n",
    "\n",
    "# Test the function with integer and decimal values\n",
    "input_value = 2\n",
    "results = math_operations(input_value)\n",
    "print(f\"Logarithm of {input_value}: {results[0]}\")\n",
    "print(f\"Exponential of {input_value}: {results[1]}\")\n",
    "print(f\"Power of 2 with exponent {input_value}: {results[2]}\")\n",
    "print(f\"Square root of {input_value}: {results[3]}\")\n",
    "\n",
    "input_value = 3.5\n",
    "results = math_operations(input_value)\n",
    "print(f\"Logarithm of {input_value}: {results[0]}\")\n",
    "print(f\"Exponential of {input_value}: {results[1]}\")\n",
    "print(f\"Power of 2 with exponent {input_value}: {results[2]}\")\n",
    "print(f\"Square root of {input_value}: {results[3]}\")\n"
   ]
  },
  {
   "cell_type": "code",
   "execution_count": null,
   "id": "fca1c3b3",
   "metadata": {},
   "outputs": [],
   "source": [
    "9 Create a function that takes a full name as an argument and returns first name and last name.\n",
    "You can create a Python function that takes a full name as an argument and then extracts the first name and last name from it. To achieve this, you can split the full name using whitespace as the delimiter and return the first and last elements of the resulting list.\n",
    "\n",
    "Here's the implementation of the function:"
   ]
  },
  {
   "cell_type": "code",
   "execution_count": 14,
   "id": "9c7ba442",
   "metadata": {},
   "outputs": [
    {
     "name": "stdout",
     "output_type": "stream",
     "text": [
      "First Name: John\n",
      "Last Name: Doe\n",
      "First Name: Alice\n",
      "Last Name: Smith\n"
     ]
    }
   ],
   "source": [
    "def extract_first_last_name(full_name):\n",
    "    # Split the full name into individual words\n",
    "    name_parts = full_name.split()\n",
    "\n",
    "    # Extract the first and last names\n",
    "    first_name = name_parts[0]\n",
    "    last_name = name_parts[-1]\n",
    "\n",
    "    return first_name, last_name\n",
    "\n",
    "# Test the function\n",
    "full_name1 = \"John Doe\"\n",
    "first_name1, last_name1 = extract_first_last_name(full_name1)\n",
    "print(\"First Name:\", first_name1)\n",
    "print(\"Last Name:\", last_name1)\n",
    "\n",
    "full_name2 = \"Alice Johnson Smith\"\n",
    "first_name2, last_name2 = extract_first_last_name(full_name2)\n",
    "print(\"First Name:\", first_name2)\n",
    "print(\"Last Name:\", last_name2)\n"
   ]
  },
  {
   "cell_type": "code",
   "execution_count": null,
   "id": "75178352",
   "metadata": {},
   "outputs": [],
   "source": []
  }
 ],
 "metadata": {
  "kernelspec": {
   "display_name": "Python 3 (ipykernel)",
   "language": "python",
   "name": "python3"
  },
  "language_info": {
   "codemirror_mode": {
    "name": "ipython",
    "version": 3
   },
   "file_extension": ".py",
   "mimetype": "text/x-python",
   "name": "python",
   "nbconvert_exporter": "python",
   "pygments_lexer": "ipython3",
   "version": "3.10.9"
  }
 },
 "nbformat": 4,
 "nbformat_minor": 5
}
